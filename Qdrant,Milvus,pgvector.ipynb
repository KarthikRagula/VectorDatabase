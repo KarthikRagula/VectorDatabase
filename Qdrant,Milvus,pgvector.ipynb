{
 "cells": [
  {
   "cell_type": "markdown",
   "id": "976a9eac-ba67-4996-b7a2-5e21a574ba66",
   "metadata": {},
   "source": [
    "Load Pdf and split into chunks"
   ]
  },
  {
   "cell_type": "code",
   "execution_count": 1,
   "id": "450597d3-c8c8-45f6-9352-c45fd41ab1d4",
   "metadata": {},
   "outputs": [
    {
     "name": "stdout",
     "output_type": "stream",
     "text": [
      "Defaulting to user installation because normal site-packages is not writeable\n",
      "Requirement already satisfied: langchain_community in /home/karthikr_700073/.local/lib/python3.10/site-packages (0.3.24)\n",
      "Requirement already satisfied: pymupdf in /home/karthikr_700073/.local/lib/python3.10/site-packages (1.26.0)\n",
      "Requirement already satisfied: langchain-core<1.0.0,>=0.3.59 in /home/karthikr_700073/.local/lib/python3.10/site-packages (from langchain_community) (0.3.61)\n",
      "Requirement already satisfied: langchain<1.0.0,>=0.3.25 in /home/karthikr_700073/.local/lib/python3.10/site-packages (from langchain_community) (0.3.25)\n",
      "Requirement already satisfied: SQLAlchemy<3,>=1.4 in /home/karthikr_700073/.local/lib/python3.10/site-packages (from langchain_community) (2.0.41)\n",
      "Requirement already satisfied: requests<3,>=2 in /home/karthikr_700073/.local/lib/python3.10/site-packages (from langchain_community) (2.32.3)\n",
      "Requirement already satisfied: PyYAML>=5.3 in /home/karthikr_700073/.local/lib/python3.10/site-packages (from langchain_community) (6.0.2)\n",
      "Requirement already satisfied: aiohttp<4.0.0,>=3.8.3 in /home/karthikr_700073/.local/lib/python3.10/site-packages (from langchain_community) (3.12.2)\n",
      "Requirement already satisfied: tenacity!=8.4.0,<10,>=8.1.0 in /home/karthikr_700073/.local/lib/python3.10/site-packages (from langchain_community) (9.1.2)\n",
      "Requirement already satisfied: dataclasses-json<0.7,>=0.5.7 in /home/karthikr_700073/.local/lib/python3.10/site-packages (from langchain_community) (0.6.7)\n",
      "Requirement already satisfied: pydantic-settings<3.0.0,>=2.4.0 in /home/karthikr_700073/.local/lib/python3.10/site-packages (from langchain_community) (2.9.1)\n",
      "Requirement already satisfied: langsmith<0.4,>=0.1.125 in /home/karthikr_700073/.local/lib/python3.10/site-packages (from langchain_community) (0.3.42)\n",
      "Requirement already satisfied: httpx-sse<1.0.0,>=0.4.0 in /home/karthikr_700073/.local/lib/python3.10/site-packages (from langchain_community) (0.4.0)\n",
      "Requirement already satisfied: numpy>=1.26.2 in /home/karthikr_700073/.local/lib/python3.10/site-packages (from langchain_community) (1.26.4)\n",
      "Requirement already satisfied: aiohappyeyeballs>=2.5.0 in /home/karthikr_700073/.local/lib/python3.10/site-packages (from aiohttp<4.0.0,>=3.8.3->langchain_community) (2.6.1)\n",
      "Requirement already satisfied: aiosignal>=1.1.2 in /home/karthikr_700073/.local/lib/python3.10/site-packages (from aiohttp<4.0.0,>=3.8.3->langchain_community) (1.3.2)\n",
      "Requirement already satisfied: async-timeout<6.0,>=4.0 in /home/karthikr_700073/.local/lib/python3.10/site-packages (from aiohttp<4.0.0,>=3.8.3->langchain_community) (4.0.3)\n",
      "Requirement already satisfied: attrs>=17.3.0 in /home/karthikr_700073/.local/lib/python3.10/site-packages (from aiohttp<4.0.0,>=3.8.3->langchain_community) (25.3.0)\n",
      "Requirement already satisfied: frozenlist>=1.1.1 in /home/karthikr_700073/.local/lib/python3.10/site-packages (from aiohttp<4.0.0,>=3.8.3->langchain_community) (1.6.0)\n",
      "Requirement already satisfied: multidict<7.0,>=4.5 in /home/karthikr_700073/.local/lib/python3.10/site-packages (from aiohttp<4.0.0,>=3.8.3->langchain_community) (6.4.4)\n",
      "Requirement already satisfied: propcache>=0.2.0 in /home/karthikr_700073/.local/lib/python3.10/site-packages (from aiohttp<4.0.0,>=3.8.3->langchain_community) (0.3.1)\n",
      "Requirement already satisfied: yarl<2.0,>=1.17.0 in /home/karthikr_700073/.local/lib/python3.10/site-packages (from aiohttp<4.0.0,>=3.8.3->langchain_community) (1.20.0)\n",
      "Requirement already satisfied: marshmallow<4.0.0,>=3.18.0 in /home/karthikr_700073/.local/lib/python3.10/site-packages (from dataclasses-json<0.7,>=0.5.7->langchain_community) (3.26.1)\n",
      "Requirement already satisfied: typing-inspect<1,>=0.4.0 in /home/karthikr_700073/.local/lib/python3.10/site-packages (from dataclasses-json<0.7,>=0.5.7->langchain_community) (0.9.0)\n",
      "Requirement already satisfied: langchain-text-splitters<1.0.0,>=0.3.8 in /home/karthikr_700073/.local/lib/python3.10/site-packages (from langchain<1.0.0,>=0.3.25->langchain_community) (0.3.8)\n",
      "Requirement already satisfied: pydantic<3.0.0,>=2.7.4 in /home/karthikr_700073/.local/lib/python3.10/site-packages (from langchain<1.0.0,>=0.3.25->langchain_community) (2.11.5)\n",
      "Requirement already satisfied: jsonpatch<2.0,>=1.33 in /home/karthikr_700073/.local/lib/python3.10/site-packages (from langchain-core<1.0.0,>=0.3.59->langchain_community) (1.33)\n",
      "Requirement already satisfied: packaging<25,>=23.2 in /home/karthikr_700073/.local/lib/python3.10/site-packages (from langchain-core<1.0.0,>=0.3.59->langchain_community) (24.2)\n",
      "Requirement already satisfied: typing-extensions>=4.7 in /home/karthikr_700073/.local/lib/python3.10/site-packages (from langchain-core<1.0.0,>=0.3.59->langchain_community) (4.13.2)\n",
      "Requirement already satisfied: jsonpointer>=1.9 in /home/karthikr_700073/.local/lib/python3.10/site-packages (from jsonpatch<2.0,>=1.33->langchain-core<1.0.0,>=0.3.59->langchain_community) (3.0.0)\n",
      "Requirement already satisfied: httpx<1,>=0.23.0 in /home/karthikr_700073/.local/lib/python3.10/site-packages (from langsmith<0.4,>=0.1.125->langchain_community) (0.28.1)\n",
      "Requirement already satisfied: orjson<4.0.0,>=3.9.14 in /home/karthikr_700073/.local/lib/python3.10/site-packages (from langsmith<0.4,>=0.1.125->langchain_community) (3.10.18)\n",
      "Requirement already satisfied: requests-toolbelt<2.0.0,>=1.0.0 in /home/karthikr_700073/.local/lib/python3.10/site-packages (from langsmith<0.4,>=0.1.125->langchain_community) (1.0.0)\n",
      "Requirement already satisfied: zstandard<0.24.0,>=0.23.0 in /home/karthikr_700073/.local/lib/python3.10/site-packages (from langsmith<0.4,>=0.1.125->langchain_community) (0.23.0)\n",
      "Requirement already satisfied: anyio in /home/karthikr_700073/.local/lib/python3.10/site-packages (from httpx<1,>=0.23.0->langsmith<0.4,>=0.1.125->langchain_community) (4.9.0)\n",
      "Requirement already satisfied: certifi in /usr/lib/python3/dist-packages (from httpx<1,>=0.23.0->langsmith<0.4,>=0.1.125->langchain_community) (2020.6.20)\n",
      "Requirement already satisfied: httpcore==1.* in /home/karthikr_700073/.local/lib/python3.10/site-packages (from httpx<1,>=0.23.0->langsmith<0.4,>=0.1.125->langchain_community) (1.0.9)\n",
      "Requirement already satisfied: idna in /usr/lib/python3/dist-packages (from httpx<1,>=0.23.0->langsmith<0.4,>=0.1.125->langchain_community) (3.3)\n",
      "Requirement already satisfied: h11>=0.16 in /home/karthikr_700073/.local/lib/python3.10/site-packages (from httpcore==1.*->httpx<1,>=0.23.0->langsmith<0.4,>=0.1.125->langchain_community) (0.16.0)\n",
      "Requirement already satisfied: annotated-types>=0.6.0 in /home/karthikr_700073/.local/lib/python3.10/site-packages (from pydantic<3.0.0,>=2.7.4->langchain<1.0.0,>=0.3.25->langchain_community) (0.7.0)\n",
      "Requirement already satisfied: pydantic-core==2.33.2 in /home/karthikr_700073/.local/lib/python3.10/site-packages (from pydantic<3.0.0,>=2.7.4->langchain<1.0.0,>=0.3.25->langchain_community) (2.33.2)\n",
      "Requirement already satisfied: typing-inspection>=0.4.0 in /home/karthikr_700073/.local/lib/python3.10/site-packages (from pydantic<3.0.0,>=2.7.4->langchain<1.0.0,>=0.3.25->langchain_community) (0.4.1)\n",
      "Requirement already satisfied: python-dotenv>=0.21.0 in /home/karthikr_700073/.local/lib/python3.10/site-packages (from pydantic-settings<3.0.0,>=2.4.0->langchain_community) (1.1.0)\n",
      "Requirement already satisfied: charset-normalizer<4,>=2 in /home/karthikr_700073/.local/lib/python3.10/site-packages (from requests<3,>=2->langchain_community) (3.4.2)\n",
      "Requirement already satisfied: urllib3<3,>=1.21.1 in /home/karthikr_700073/.local/lib/python3.10/site-packages (from requests<3,>=2->langchain_community) (2.4.0)\n",
      "Requirement already satisfied: greenlet>=1 in /home/karthikr_700073/.local/lib/python3.10/site-packages (from SQLAlchemy<3,>=1.4->langchain_community) (3.2.2)\n",
      "Requirement already satisfied: mypy-extensions>=0.3.0 in /home/karthikr_700073/.local/lib/python3.10/site-packages (from typing-inspect<1,>=0.4.0->dataclasses-json<0.7,>=0.5.7->langchain_community) (1.1.0)\n",
      "Requirement already satisfied: exceptiongroup>=1.0.2 in /home/karthikr_700073/.local/lib/python3.10/site-packages (from anyio->httpx<1,>=0.23.0->langsmith<0.4,>=0.1.125->langchain_community) (1.3.0)\n",
      "Requirement already satisfied: sniffio>=1.1 in /home/karthikr_700073/.local/lib/python3.10/site-packages (from anyio->httpx<1,>=0.23.0->langsmith<0.4,>=0.1.125->langchain_community) (1.3.1)\n"
     ]
    },
    {
     "name": "stderr",
     "output_type": "stream",
     "text": [
      "/home/karthikr_700073/.local/lib/python3.10/site-packages/tqdm/auto.py:21: TqdmWarning: IProgress not found. Please update jupyter and ipywidgets. See https://ipywidgets.readthedocs.io/en/stable/user_install.html\n",
      "  from .autonotebook import tqdm as notebook_tqdm\n"
     ]
    }
   ],
   "source": [
    "!pip install langchain_community pymupdf\n",
    "from transformers import AutoTokenizer, AutoModel, AutoModelForSeq2SeqLM, pipeline\n",
    "from langchain_community.document_loaders import PyMuPDFLoader\n",
    "from langchain.text_splitter import RecursiveCharacterTextSplitter\n",
    "import torch\n",
    "import numpy as np"
   ]
  },
  {
   "cell_type": "code",
   "execution_count": 2,
   "id": "4c1b9e94-dda7-4604-ba28-cddccf64d2df",
   "metadata": {},
   "outputs": [],
   "source": [
    "pdf_path = \"APJAbdulKalam.pdf\" \n",
    "loader = PyMuPDFLoader(pdf_path)\n",
    "docs = loader.load()"
   ]
  },
  {
   "cell_type": "code",
   "execution_count": 3,
   "id": "0031d131-9413-41cd-889c-c7cceafd0e05",
   "metadata": {},
   "outputs": [],
   "source": [
    "splitter = RecursiveCharacterTextSplitter(chunk_size=500, chunk_overlap=100)\n",
    "split_docs = splitter.split_documents(docs)\n",
    "documents = [doc.page_content for doc in split_docs]\n",
    "metadatas = [{\"source\": doc.metadata.get(\"page\", \"unknown\")} for doc in split_docs]\n"
   ]
  },
  {
   "cell_type": "markdown",
   "id": "5553e8b0-f1d3-4574-9267-667beac55f94",
   "metadata": {},
   "source": [
    "Embedding Model - Jina AI"
   ]
  },
  {
   "cell_type": "code",
   "execution_count": 4,
   "id": "b9b6a9c2-f965-46a2-96e1-892daf2eea95",
   "metadata": {},
   "outputs": [
    {
     "name": "stderr",
     "output_type": "stream",
     "text": [
      "/home/karthikr_700073/.cache/huggingface/modules/transformers_modules/jinaai/jina-bert-v2-qk-post-norm/3baf9e3ac750e76e8edd3019170176884695fb94/configuration_bert.py:29: UserWarning: optimum is not installed. To use OnnxConfig and BertOnnxConfig, make sure that `optimum` package is installed\n",
      "  warnings.warn(\"optimum is not installed. To use OnnxConfig and BertOnnxConfig, make sure that `optimum` package is installed\")\n"
     ]
    }
   ],
   "source": [
    "embedding_model_name = \"jinaai/jina-embeddings-v2-base-code\"\n",
    "embedding_tokenizer = AutoTokenizer.from_pretrained(embedding_model_name, trust_remote_code=True)\n",
    "embedding_model = AutoModel.from_pretrained(embedding_model_name, trust_remote_code=True)\n",
    "\n",
    "def get_embedding(texts):\n",
    "    inputs = embedding_tokenizer(texts, padding=True, truncation=True, return_tensors=\"pt\")\n",
    "    with torch.no_grad():\n",
    "        outputs = embedding_model(**inputs)\n",
    "        embeddings = outputs.last_hidden_state.mean(dim=1)\n",
    "    return embeddings.cpu().numpy()"
   ]
  },
  {
   "cell_type": "code",
   "execution_count": 5,
   "id": "02b59ac4-7c27-48f6-87cc-e5837a181c34",
   "metadata": {},
   "outputs": [
    {
     "data": {
      "text/plain": [
       "array([[ 0.3655887 ,  0.9712121 , -0.7063259 , ..., -0.29313967,\n",
       "        -0.30289736,  0.19185378],\n",
       "       [ 0.64828473,  0.24969733, -0.34193242, ...,  0.25982213,\n",
       "        -0.14664198,  0.14931633],\n",
       "       [ 1.4192857 ,  0.05153514, -0.3239099 , ...,  0.229352  ,\n",
       "        -0.4485154 ,  0.1909687 ],\n",
       "       ...,\n",
       "       [ 0.04847077,  0.60588354, -0.9268269 , ..., -0.5859429 ,\n",
       "        -0.10997654,  0.49540496],\n",
       "       [ 0.4140241 ,  1.2307209 , -0.41796866, ..., -0.4343838 ,\n",
       "        -0.22568645,  0.9180646 ],\n",
       "       [ 0.77146244,  1.0265812 , -0.30603454, ..., -0.31390408,\n",
       "         0.02288594,  1.0789237 ]], dtype=float32)"
      ]
     },
     "execution_count": 5,
     "metadata": {},
     "output_type": "execute_result"
    }
   ],
   "source": [
    "embeddings = get_embedding(documents)\n",
    "embeddings"
   ]
  },
  {
   "cell_type": "markdown",
   "id": "4e30a821-b98e-4e82-bfa8-00985f5b8c10",
   "metadata": {},
   "source": [
    "Qdrant Database"
   ]
  },
  {
   "cell_type": "code",
   "execution_count": 6,
   "id": "f42fc6eb-660d-4563-9dba-2c3366be9bab",
   "metadata": {},
   "outputs": [
    {
     "name": "stderr",
     "output_type": "stream",
     "text": [
      "huggingface/tokenizers: The current process just got forked, after parallelism has already been used. Disabling parallelism to avoid deadlocks...\n",
      "To disable this warning, you can either:\n",
      "\t- Avoid using `tokenizers` before the fork if possible\n",
      "\t- Explicitly set the environment variable TOKENIZERS_PARALLELISM=(true | false)\n"
     ]
    },
    {
     "name": "stdout",
     "output_type": "stream",
     "text": [
      "Defaulting to user installation because normal site-packages is not writeable\n",
      "Requirement already satisfied: qdrant-client in /home/karthikr_700073/.local/lib/python3.10/site-packages (1.14.2)\n",
      "Requirement already satisfied: grpcio>=1.41.0 in /home/karthikr_700073/.local/lib/python3.10/site-packages (from qdrant-client) (1.67.1)\n",
      "Requirement already satisfied: httpx>=0.20.0 in /home/karthikr_700073/.local/lib/python3.10/site-packages (from httpx[http2]>=0.20.0->qdrant-client) (0.28.1)\n",
      "Requirement already satisfied: numpy>=1.21 in /home/karthikr_700073/.local/lib/python3.10/site-packages (from qdrant-client) (1.26.4)\n",
      "Requirement already satisfied: portalocker<3.0.0,>=2.7.0 in /home/karthikr_700073/.local/lib/python3.10/site-packages (from qdrant-client) (2.10.1)\n",
      "Requirement already satisfied: protobuf>=3.20.0 in /home/karthikr_700073/.local/lib/python3.10/site-packages (from qdrant-client) (5.29.5)\n",
      "Requirement already satisfied: pydantic!=2.0.*,!=2.1.*,!=2.2.0,>=1.10.8 in /home/karthikr_700073/.local/lib/python3.10/site-packages (from qdrant-client) (2.11.5)\n",
      "Requirement already satisfied: urllib3<3,>=1.26.14 in /home/karthikr_700073/.local/lib/python3.10/site-packages (from qdrant-client) (2.4.0)\n",
      "Requirement already satisfied: anyio in /home/karthikr_700073/.local/lib/python3.10/site-packages (from httpx>=0.20.0->httpx[http2]>=0.20.0->qdrant-client) (4.9.0)\n",
      "Requirement already satisfied: certifi in /usr/lib/python3/dist-packages (from httpx>=0.20.0->httpx[http2]>=0.20.0->qdrant-client) (2020.6.20)\n",
      "Requirement already satisfied: httpcore==1.* in /home/karthikr_700073/.local/lib/python3.10/site-packages (from httpx>=0.20.0->httpx[http2]>=0.20.0->qdrant-client) (1.0.9)\n",
      "Requirement already satisfied: idna in /usr/lib/python3/dist-packages (from httpx>=0.20.0->httpx[http2]>=0.20.0->qdrant-client) (3.3)\n",
      "Requirement already satisfied: h11>=0.16 in /home/karthikr_700073/.local/lib/python3.10/site-packages (from httpcore==1.*->httpx>=0.20.0->httpx[http2]>=0.20.0->qdrant-client) (0.16.0)\n",
      "Requirement already satisfied: h2<5,>=3 in /home/karthikr_700073/.local/lib/python3.10/site-packages (from httpx[http2]>=0.20.0->qdrant-client) (4.2.0)\n",
      "Requirement already satisfied: hyperframe<7,>=6.1 in /home/karthikr_700073/.local/lib/python3.10/site-packages (from h2<5,>=3->httpx[http2]>=0.20.0->qdrant-client) (6.1.0)\n",
      "Requirement already satisfied: hpack<5,>=4.1 in /home/karthikr_700073/.local/lib/python3.10/site-packages (from h2<5,>=3->httpx[http2]>=0.20.0->qdrant-client) (4.1.0)\n",
      "Requirement already satisfied: annotated-types>=0.6.0 in /home/karthikr_700073/.local/lib/python3.10/site-packages (from pydantic!=2.0.*,!=2.1.*,!=2.2.0,>=1.10.8->qdrant-client) (0.7.0)\n",
      "Requirement already satisfied: pydantic-core==2.33.2 in /home/karthikr_700073/.local/lib/python3.10/site-packages (from pydantic!=2.0.*,!=2.1.*,!=2.2.0,>=1.10.8->qdrant-client) (2.33.2)\n",
      "Requirement already satisfied: typing-extensions>=4.12.2 in /home/karthikr_700073/.local/lib/python3.10/site-packages (from pydantic!=2.0.*,!=2.1.*,!=2.2.0,>=1.10.8->qdrant-client) (4.13.2)\n",
      "Requirement already satisfied: typing-inspection>=0.4.0 in /home/karthikr_700073/.local/lib/python3.10/site-packages (from pydantic!=2.0.*,!=2.1.*,!=2.2.0,>=1.10.8->qdrant-client) (0.4.1)\n",
      "Requirement already satisfied: exceptiongroup>=1.0.2 in /home/karthikr_700073/.local/lib/python3.10/site-packages (from anyio->httpx>=0.20.0->httpx[http2]>=0.20.0->qdrant-client) (1.3.0)\n",
      "Requirement already satisfied: sniffio>=1.1 in /home/karthikr_700073/.local/lib/python3.10/site-packages (from anyio->httpx>=0.20.0->httpx[http2]>=0.20.0->qdrant-client) (1.3.1)\n"
     ]
    }
   ],
   "source": [
    "!pip install qdrant-client"
   ]
  },
  {
   "cell_type": "markdown",
   "id": "f99c6621-4797-4cac-bb91-c63a3f4deb65",
   "metadata": {},
   "source": [
    "sudo docker pull qdrant/qdrant"
   ]
  },
  {
   "cell_type": "markdown",
   "id": "f274b6a1-bc0c-401a-a6e9-ac346be5e94d",
   "metadata": {},
   "source": [
    "sudo docker run -p 6333:6333 -p 6334:6334 \\\n",
    "    -v \"$(pwd)/qdrant_storage:/qdrant/storage:z\" \\\n",
    "    qdrant/qdrant"
   ]
  },
  {
   "cell_type": "code",
   "execution_count": 7,
   "id": "2a1640d0-cc48-4cfd-9650-a917ec76db26",
   "metadata": {},
   "outputs": [
    {
     "name": "stderr",
     "output_type": "stream",
     "text": [
      "/tmp/ipykernel_387313/1332731942.py:7: DeprecationWarning: `recreate_collection` method is deprecated and will be removed in the future. Use `collection_exists` to check collection existence and `create_collection` instead.\n",
      "  client.recreate_collection(\n"
     ]
    },
    {
     "data": {
      "text/plain": [
       "True"
      ]
     },
     "execution_count": 7,
     "metadata": {},
     "output_type": "execute_result"
    }
   ],
   "source": [
    "from qdrant_client import QdrantClient\n",
    "from qdrant_client.http.models import Distance, VectorParams\n",
    "\n",
    "# Connect to local Qdrant\n",
    "client = QdrantClient(host=\"localhost\", port=6333)\n",
    "\n",
    "client.recreate_collection(\n",
    "    collection_name=\"kalam_collection\",\n",
    "    vectors_config=VectorParams(\n",
    "        size=768,                    # Use correct vector size here\n",
    "        distance=Distance.COSINE     # Or Distance.DOT / Distance.EUCLID\n",
    "    )\n",
    ")"
   ]
  },
  {
   "cell_type": "code",
   "execution_count": 8,
   "id": "dd85cedd-c3af-4fa5-8f04-4f8bf14cea6a",
   "metadata": {},
   "outputs": [
    {
     "data": {
      "text/plain": [
       "UpdateResult(operation_id=0, status=<UpdateStatus.COMPLETED: 'completed'>)"
      ]
     },
     "execution_count": 8,
     "metadata": {},
     "output_type": "execute_result"
    }
   ],
   "source": [
    "ids = list(range(len(embeddings)))\n",
    "vectors = [vec.tolist() for vec in embeddings]\n",
    "payloads = [{\"text\": doc} for doc in documents]\n",
    "\n",
    "client.upsert(\n",
    "    collection_name=\"kalam_collection\",\n",
    "    wait=True,\n",
    "    points=[\n",
    "        {\n",
    "            \"id\": id_,\n",
    "            \"vector\": vector,\n",
    "            \"payload\": payload\n",
    "        }\n",
    "        for id_, vector, payload in zip(ids, vectors, payloads)\n",
    "    ]\n",
    ")"
   ]
  },
  {
   "cell_type": "markdown",
   "id": "0320c85e-c788-414c-99d0-6a70547b32ad",
   "metadata": {},
   "source": [
    "Query"
   ]
  },
  {
   "cell_type": "code",
   "execution_count": 24,
   "id": "76ebb7d4-daf4-4115-9c55-cf85dd5e43d9",
   "metadata": {},
   "outputs": [],
   "source": [
    "query_text = \"Why abdul kalam is famous?\"\n",
    "query_embedding = get_embedding([query_text])[0].tolist()  # your embedding function"
   ]
  },
  {
   "cell_type": "markdown",
   "id": "1df3cb10-9950-43c2-bd9e-a6c7f615c8c6",
   "metadata": {},
   "source": [
    "Qdrant Results"
   ]
  },
  {
   "cell_type": "code",
   "execution_count": 25,
   "id": "f944960a-d2f3-47e9-a627-a727e83c6286",
   "metadata": {},
   "outputs": [
    {
     "name": "stdout",
     "output_type": "stream",
     "text": [
      "Score: 0.5864\n",
      "Text: initiated the use of carbon-carbon and carbon-polymer \n",
      "materials for production of floor reaction orthosis calipers \n",
      "which has reduced the weight of the caliper to 1/10th of the \n",
      "original weight during 1995 – 1996. Over 50,000 children have \n",
      "been fitted with these calipers.  \n",
      "Dr. Kalam took up academic pursuit as Professor, \n",
      "Technology & Societal Transformation at Anna University, \n",
      "Chennai from November 2001 and was involved in teaching\n",
      "-----\n",
      "Score: 0.5730\n",
      "Text: Vision 2020.  He has addressed several children science \n",
      "congresses across the country.  \n",
      "Dr. Kalam is passionate about bringing rural prosperity \n",
      "through PURA (Providing Urban Amenities to Rural Areas), in \n",
      "which science and technology has to play a key role. Based on \n",
      "his diverse experience he has been propagating the concept of \n",
      "World \n",
      "Knowledge \n",
      "Platform \n",
      "through \n",
      "which \n",
      "the \n",
      "core\n",
      "-----\n",
      "Score: 0.5218\n",
      "Text: responsible for evolving policies, strategies and missions for \n",
      "many development applications. Dr. Kalam was also the \n",
      "Chairman, Ex-officio, of the Scientific Advisory Committee to \n",
      "the Cabinet (SAC-C) and piloted India Millennium Mission \n",
      "2020.\n",
      "-----\n"
     ]
    },
    {
     "name": "stderr",
     "output_type": "stream",
     "text": [
      "/tmp/ipykernel_387313/4187636697.py:1: DeprecationWarning: `search` method is deprecated and will be removed in the future. Use `query_points` instead.\n",
      "  qdrant_search_results = client.search(\n"
     ]
    }
   ],
   "source": [
    "qdrant_search_results = client.search(\n",
    "    collection_name=\"kalam_collection\",\n",
    "    query_vector=query_embedding,\n",
    "    limit=3,            # top 3 results\n",
    "    with_payload=True   # to get stored text with results\n",
    ")\n",
    "qdrant_relevant_docs = [hit.payload['text'] for hit in qdrant_search_results]\n",
    "\n",
    "for hit in qdrant_search_results:\n",
    "    print(f\"Score: {hit.score:.4f}\")\n",
    "    print(f\"Text: {hit.payload['text']}\")\n",
    "    print(\"-----\")\n"
   ]
  },
  {
   "cell_type": "markdown",
   "id": "7a091c95-4c04-4fc7-975d-53f0d0e256db",
   "metadata": {},
   "source": [
    "LLM"
   ]
  },
  {
   "cell_type": "code",
   "execution_count": 26,
   "id": "76df984a-9529-4323-9c66-b0ad83cd32ca",
   "metadata": {},
   "outputs": [
    {
     "name": "stderr",
     "output_type": "stream",
     "text": [
      "Device set to use cpu\n"
     ]
    }
   ],
   "source": [
    "llm_model_name = \"google/flan-t5-base\"\n",
    "llm_tokenizer = AutoTokenizer.from_pretrained(llm_model_name)\n",
    "llm_model = AutoModelForSeq2SeqLM.from_pretrained(llm_model_name)\n",
    "\n",
    "llm_pipe = pipeline(\n",
    "    \"text2text-generation\",\n",
    "    model=llm_model,\n",
    "    tokenizer=llm_tokenizer,\n",
    "    max_length=512,\n",
    "    device=0 if torch.cuda.is_available() else -1\n",
    ")\n"
   ]
  },
  {
   "cell_type": "code",
   "execution_count": 27,
   "id": "b7498c0c-c198-4be8-8609-06a200634481",
   "metadata": {},
   "outputs": [
    {
     "name": "stdout",
     "output_type": "stream",
     "text": [
      "\n",
      "🧠 Question: Why abdul kalam is famous?\n",
      "\n",
      "✅Qdrant Answer:\n",
      " Dr. Kalam took up academic pursuit as Professor, Technology & Societal Transformation at Anna University, Chennai from November 2001 and was involved in teaching Vision 2020. He has addressed several children science congresses across the country. Dr. Kalam is passionate about bringing rural prosperity through PURA (Providing Urban Amenities to Rural Areas), in which science and technology has to play a key role. Based on his diverse experience he has been propagating the concept of World Knowledge Platform through which the core responsible for evolving policies, strategies and missions for many development applications. Dr. Kalam was also the Chairman, Ex-officio, of the Scientific Advisory Committee to the Cabinet (SAC-C) and piloted India Millennium Mission 2020. He has addressed several children science congresses across the country. Dr. Kalam took up academic pursuit as Professor, Technology & Societal Transformation at Anna University, Chennai from November 2001 and was involved in teaching Vision 2020. He has addressed several children science congresses across the country. Dr. Kalam is passionate about bringing rural prosperity through PURA (Providing Urban Amenities to Rural Areas), in which science and technology has to play a key role. Based on his diverse experience he has been propagating the concept of World Knowledge Platform through which the core responsible for evolving policies, strategies and missions for many development applications. Dr. Kalam was also the Chairman, Ex-officio, of the Scientific Advisory Committee to the Cabinet (SAC-C) and piloted India Millennium Mission 2020. Dr. Kalam was also the Chairman, Ex-officio, of the Scientific Advisory Committee to the Cabinet (SAC-C) and piloted India Millennium Mission\n"
     ]
    }
   ],
   "source": [
    "qdrant_context = \"\\n\".join(qdrant_relevant_docs)\n",
    "\n",
    "print(f\"\\n🧠 Question: {query_text}\")\n",
    "\n",
    "final_input = f\"\"\"You are an expert assistant.\n",
    "Answer the following question strictly only based on the provided context.\"\n",
    "\n",
    "Context:\n",
    "{qdrant_context}\n",
    "\n",
    "Question: {query_text}\n",
    "Answer:\"\"\"\n",
    "\n",
    "response = llm_pipe(final_input)[0][\"generated_text\"]\n",
    "print(\"\\n✅Qdrant Answer:\\n\", response)\n"
   ]
  },
  {
   "cell_type": "markdown",
   "id": "8351345a-186b-43a1-90f7-2489c978f906",
   "metadata": {},
   "source": [
    "Milvus"
   ]
  },
  {
   "cell_type": "code",
   "execution_count": 28,
   "id": "49e9d36f-65f5-4474-b67d-a1d205d1f894",
   "metadata": {},
   "outputs": [
    {
     "name": "stderr",
     "output_type": "stream",
     "text": [
      "huggingface/tokenizers: The current process just got forked, after parallelism has already been used. Disabling parallelism to avoid deadlocks...\n",
      "To disable this warning, you can either:\n",
      "\t- Avoid using `tokenizers` before the fork if possible\n",
      "\t- Explicitly set the environment variable TOKENIZERS_PARALLELISM=(true | false)\n"
     ]
    },
    {
     "name": "stdout",
     "output_type": "stream",
     "text": [
      "Found existing installation: grpcio 1.67.1\n",
      "Uninstalling grpcio-1.67.1:\n",
      "  Successfully uninstalled grpcio-1.67.1\n",
      "Found existing installation: grpcio-status 1.67.1\n",
      "Uninstalling grpcio-status-1.67.1:\n",
      "  Successfully uninstalled grpcio-status-1.67.1\n",
      "Found existing installation: pymilvus 2.5.0\n",
      "Uninstalling pymilvus-2.5.0:\n",
      "  Successfully uninstalled pymilvus-2.5.0\n"
     ]
    },
    {
     "name": "stderr",
     "output_type": "stream",
     "text": [
      "huggingface/tokenizers: The current process just got forked, after parallelism has already been used. Disabling parallelism to avoid deadlocks...\n",
      "To disable this warning, you can either:\n",
      "\t- Avoid using `tokenizers` before the fork if possible\n",
      "\t- Explicitly set the environment variable TOKENIZERS_PARALLELISM=(true | false)\n"
     ]
    },
    {
     "name": "stdout",
     "output_type": "stream",
     "text": [
      "Defaulting to user installation because normal site-packages is not writeable\n",
      "Collecting grpcio==1.67.1\n",
      "  Using cached grpcio-1.67.1-cp310-cp310-manylinux_2_17_x86_64.manylinux2014_x86_64.whl.metadata (3.9 kB)\n",
      "Collecting grpcio-status==1.67.1\n",
      "  Using cached grpcio_status-1.67.1-py3-none-any.whl.metadata (1.1 kB)\n",
      "Requirement already satisfied: protobuf<6.0dev,>=5.26.1 in /home/karthikr_700073/.local/lib/python3.10/site-packages (from grpcio-status==1.67.1) (5.29.5)\n",
      "Requirement already satisfied: googleapis-common-protos>=1.5.5 in /home/karthikr_700073/.local/lib/python3.10/site-packages (from grpcio-status==1.67.1) (1.70.0)\n",
      "Using cached grpcio-1.67.1-cp310-cp310-manylinux_2_17_x86_64.manylinux2014_x86_64.whl (5.9 MB)\n",
      "Using cached grpcio_status-1.67.1-py3-none-any.whl (14 kB)\n",
      "Installing collected packages: grpcio, grpcio-status\n",
      "\u001b[2K   \u001b[38;2;114;156;31m━━━━━━━━━━━━━━━━━━━━━━━━━━━━━━━━━━━━━━━━\u001b[0m \u001b[32m2/2\u001b[0m [grpcio-status]\n",
      "\u001b[1A\u001b[2K\u001b[31mERROR: pip's dependency resolver does not currently take into account all the packages that are installed. This behaviour is the source of the following dependency conflicts.\n",
      "chromadb 1.0.10 requires mmh3>=4.0.1, but you have mmh3 3.0.0 which is incompatible.\n",
      "grpcio-health-checking 1.71.0 requires grpcio>=1.71.0, but you have grpcio 1.67.1 which is incompatible.\n",
      "grpcio-tools 1.47.5 requires protobuf<4.0dev,>=3.12.0, but you have protobuf 5.29.5 which is incompatible.\n",
      "weaviate-client 4.14.4 requires grpcio-tools<2.0.0,>=1.66.2, but you have grpcio-tools 1.47.5 which is incompatible.\u001b[0m\u001b[31m\n",
      "\u001b[0mSuccessfully installed grpcio-1.67.1 grpcio-status-1.67.1\n"
     ]
    },
    {
     "name": "stderr",
     "output_type": "stream",
     "text": [
      "huggingface/tokenizers: The current process just got forked, after parallelism has already been used. Disabling parallelism to avoid deadlocks...\n",
      "To disable this warning, you can either:\n",
      "\t- Avoid using `tokenizers` before the fork if possible\n",
      "\t- Explicitly set the environment variable TOKENIZERS_PARALLELISM=(true | false)\n"
     ]
    },
    {
     "name": "stdout",
     "output_type": "stream",
     "text": [
      "Defaulting to user installation because normal site-packages is not writeable\n",
      "Collecting pymilvus==2.5.0\n",
      "  Using cached pymilvus-2.5.0-py3-none-any.whl.metadata (5.7 kB)\n",
      "Requirement already satisfied: setuptools>69 in /home/karthikr_700073/.local/lib/python3.10/site-packages (from pymilvus==2.5.0) (80.9.0)\n",
      "Requirement already satisfied: grpcio<=1.67.1,>=1.49.1 in /home/karthikr_700073/.local/lib/python3.10/site-packages (from pymilvus==2.5.0) (1.67.1)\n",
      "Requirement already satisfied: protobuf>=3.20.0 in /home/karthikr_700073/.local/lib/python3.10/site-packages (from pymilvus==2.5.0) (5.29.5)\n",
      "Requirement already satisfied: python-dotenv<2.0.0,>=1.0.1 in /home/karthikr_700073/.local/lib/python3.10/site-packages (from pymilvus==2.5.0) (1.1.0)\n",
      "Requirement already satisfied: ujson>=2.0.0 in /home/karthikr_700073/.local/lib/python3.10/site-packages (from pymilvus==2.5.0) (5.4.0)\n",
      "Requirement already satisfied: pandas>=1.2.4 in /home/karthikr_700073/.local/lib/python3.10/site-packages (from pymilvus==2.5.0) (2.3.0)\n",
      "Requirement already satisfied: milvus-lite>=2.4.0 in /home/karthikr_700073/.local/lib/python3.10/site-packages (from pymilvus==2.5.0) (2.4.12)\n",
      "Requirement already satisfied: tqdm in /home/karthikr_700073/.local/lib/python3.10/site-packages (from milvus-lite>=2.4.0->pymilvus==2.5.0) (4.67.1)\n",
      "Requirement already satisfied: numpy>=1.22.4 in /home/karthikr_700073/.local/lib/python3.10/site-packages (from pandas>=1.2.4->pymilvus==2.5.0) (1.26.4)\n",
      "Requirement already satisfied: python-dateutil>=2.8.2 in /home/karthikr_700073/.local/lib/python3.10/site-packages (from pandas>=1.2.4->pymilvus==2.5.0) (2.9.0.post0)\n",
      "Requirement already satisfied: pytz>=2020.1 in /usr/lib/python3/dist-packages (from pandas>=1.2.4->pymilvus==2.5.0) (2022.1)\n",
      "Requirement already satisfied: tzdata>=2022.7 in /home/karthikr_700073/.local/lib/python3.10/site-packages (from pandas>=1.2.4->pymilvus==2.5.0) (2025.2)\n",
      "Requirement already satisfied: six>=1.5 in /usr/lib/python3/dist-packages (from python-dateutil>=2.8.2->pandas>=1.2.4->pymilvus==2.5.0) (1.16.0)\n",
      "Using cached pymilvus-2.5.0-py3-none-any.whl (212 kB)\n",
      "Installing collected packages: pymilvus\n",
      "Successfully installed pymilvus-2.5.0\n"
     ]
    }
   ],
   "source": [
    "!pip uninstall grpcio grpcio-status pymilvus -y\n",
    "!pip install grpcio==1.67.1 grpcio-status==1.67.1\n",
    "!pip install pymilvus==2.5.0"
   ]
  },
  {
   "cell_type": "markdown",
   "id": "447dc7a8-ece2-4943-9948-b8d57f5132b2",
   "metadata": {},
   "source": [
    "wget https://github.com/milvus-io/milvus/releases/download/v2.5.13/milvus-standalone-docker-compose.yml -O docker-compose.yml\n",
    "\n",
    "sudo docker compose up -d\n",
    "\n",
    "sudo docker compose down\n"
   ]
  },
  {
   "cell_type": "code",
   "execution_count": 42,
   "id": "b560e787-65f7-4390-bcb3-5b61aa1b969b",
   "metadata": {},
   "outputs": [],
   "source": [
    "from pymilvus import connections, Collection, CollectionSchema, FieldSchema, DataType, utility\n",
    "\n",
    "connections.connect(\"default\", host=\"localhost\", port=\"19530\")"
   ]
  },
  {
   "cell_type": "code",
   "execution_count": 44,
   "id": "11f21d24-9321-47a4-8f6f-0e7df6ecd25f",
   "metadata": {},
   "outputs": [],
   "source": [
    "collection_name = \"pdf_rag\"\n",
    "\n",
    "if utility.has_collection(collection_name):\n",
    "    utility.drop_collection(collection_name)\n",
    "\n",
    "fields = [\n",
    "    FieldSchema(name=\"id\", dtype=DataType.INT64, is_primary=True, auto_id=True),\n",
    "    FieldSchema(name=\"content\", dtype=DataType.VARCHAR, max_length=1000),\n",
    "    FieldSchema(name=\"embedding\", dtype=DataType.FLOAT_VECTOR, dim=768)\n",
    "]\n",
    "\n",
    "schema = CollectionSchema(fields)\n",
    "collection = Collection(name=collection_name, schema=schema)\n",
    "\n",
    "collection.create_index(field_name=\"embedding\", index_params={\n",
    "    \"metric_type\": \"COSINE\", \"index_type\": \"FLAT\", \"params\": {}\n",
    "})\n",
    "\n",
    "collection.load()"
   ]
  },
  {
   "cell_type": "code",
   "execution_count": 45,
   "id": "ec31e3a5-32ce-4d51-8c94-cde98713e175",
   "metadata": {},
   "outputs": [],
   "source": [
    "import time\n",
    "def safe_insert_data(collection, documents, embeddings, batch_size=20):\n",
    "    \"\"\"Insert data in batches with proper error handling\"\"\"\n",
    "    \n",
    "    total_docs = len(documents)\n",
    "    print(f\"Starting insertion of {total_docs} documents in batches of {batch_size}\")\n",
    "    \n",
    "    for i in range(0, total_docs, batch_size):\n",
    "        try:\n",
    "            # Get batch data\n",
    "            end_idx = min(i + batch_size, total_docs)\n",
    "            batch_docs = documents[i:end_idx]\n",
    "            batch_embs = embeddings[i:end_idx].tolist()\n",
    "            \n",
    "            # CRITICAL: Check document length and truncate if necessary\n",
    "            processed_docs = []\n",
    "            for doc in batch_docs:\n",
    "                if len(doc) > 2000:  # Max length we set in schema\n",
    "                    processed_docs.append(doc[:1990] + \"...\")  # Truncate with ellipsis\n",
    "                else:\n",
    "                    processed_docs.append(doc)\n",
    "            \n",
    "            # Insert batch - CORRECT FORMAT: [field1_data, field2_data]\n",
    "            # Note: Don't include 'id' field data since auto_id=True\n",
    "            insert_result = collection.insert([processed_docs, batch_embs])\n",
    "            \n",
    "            # Flush to ensure data is written\n",
    "            collection.flush()\n",
    "            \n",
    "            print(f\"✅ Inserted batch {i+1}-{end_idx}: {len(insert_result.primary_keys)} records\")\n",
    "            \n",
    "            # Small delay to prevent overwhelming the system\n",
    "            time.sleep(0.5)\n",
    "            \n",
    "        except Exception as e:\n",
    "            print(f\"❌ Failed to insert batch {i+1}-{end_idx}: {e}\")\n",
    "            print(f\"Error type: {type(e).__name__}\")\n",
    "            \n",
    "            # Try to diagnose the issue\n",
    "            if \"string length\" in str(e).lower():\n",
    "                print(\"💡 Issue: Document too long. Increase max_length in schema or truncate documents.\")\n",
    "            elif \"dimension\" in str(e).lower():\n",
    "                print(\"💡 Issue: Embedding dimension mismatch. Check your embedding model output.\")\n",
    "            elif \"connection\" in str(e).lower():\n",
    "                print(\"💡 Issue: Connection problem. Check if Milvus is running.\")\n",
    "            \n",
    "            return False\n",
    "    collection.flush()\n",
    "    print(f\"✅ Total records in collection: {collection.num_entities}\")\n",
    "    return True"
   ]
  },
  {
   "cell_type": "code",
   "execution_count": 46,
   "id": "76a592fc-7c70-41a1-8859-2b4cf6438df3",
   "metadata": {},
   "outputs": [
    {
     "name": "stdout",
     "output_type": "stream",
     "text": [
      "Starting insertion of 18 documents in batches of 20\n",
      "✅ Inserted batch 1-18: 18 records\n",
      "✅ Total records in collection: 18\n",
      "🎉 All data inserted successfully!\n"
     ]
    }
   ],
   "source": [
    "# Perform the insertion\n",
    "success = safe_insert_data(collection, documents, embeddings, batch_size=20)\n",
    "\n",
    "if success:\n",
    "    print(\"🎉 All data inserted successfully!\")"
   ]
  },
  {
   "cell_type": "markdown",
   "id": "f89b69ad-6dcd-4189-988c-cd94cb4eeb6b",
   "metadata": {},
   "source": [
    "Milvus Results"
   ]
  },
  {
   "cell_type": "code",
   "execution_count": 47,
   "id": "371811e9-6468-4c72-bfaa-643f46a9eccf",
   "metadata": {},
   "outputs": [
    {
     "name": "stdout",
     "output_type": "stream",
     "text": [
      "\n",
      "🔍 Search results for: 'Why abdul kalam is famous?'\n",
      "Result 1:\n",
      "Score: 0.5864\n",
      "Content: initiated the use of carbon-carbon and carbon-polymer \n",
      "materials for production of floor reaction orthosis calipers \n",
      "which has reduced the weight of the caliper to 1/10th of the \n",
      "original weight during 1995 – 1996. Over 50,000 children have \n",
      "been fitted with these calipers.  \n",
      "Dr. Kalam took up academic pursuit as Professor, \n",
      "Technology & Societal Transformation at Anna University, \n",
      "Chennai from November 2001 and was involved in teaching\n",
      "\n",
      "Result 2:\n",
      "Score: 0.5730\n",
      "Content: Vision 2020.  He has addressed several children science \n",
      "congresses across the country.  \n",
      "Dr. Kalam is passionate about bringing rural prosperity \n",
      "through PURA (Providing Urban Amenities to Rural Areas), in \n",
      "which science and technology has to play a key role. Based on \n",
      "his diverse experience he has been propagating the concept of \n",
      "World \n",
      "Knowledge \n",
      "Platform \n",
      "through \n",
      "which \n",
      "the \n",
      "core\n",
      "\n",
      "Result 3:\n",
      "Score: 0.5218\n",
      "Content: responsible for evolving policies, strategies and missions for \n",
      "many development applications. Dr. Kalam was also the \n",
      "Chairman, Ex-officio, of the Scientific Advisory Committee to \n",
      "the Cabinet (SAC-C) and piloted India Millennium Mission \n",
      "2020.\n",
      "\n"
     ]
    }
   ],
   "source": [
    "search_params = {\"metric_type\": \"COSINE\",\"params\": {}}\n",
    "\n",
    "results = collection.search(data=[query_embedding],anns_field=\"embedding\",param=search_params,limit=3,output_fields=[\"content\"])\n",
    "\n",
    "print(f\"\\n🔍 Search results for: '{query_text}'\")\n",
    "\n",
    "milvus_relavant_docs=[]\n",
    "for i, hit in enumerate(results[0]):\n",
    "    print(f\"Result {i+1}:\")\n",
    "    print(f\"Score: {hit.score:.4f}\")\n",
    "    print(f\"Content: {hit.entity.get('content')[:]}\")\n",
    "    milvus_relavant_docs.append(hit.entity.get('content')[:])\n",
    "    print()"
   ]
  },
  {
   "cell_type": "code",
   "execution_count": 34,
   "id": "ca72d922-a7ec-44a6-996d-252ffd129f9d",
   "metadata": {},
   "outputs": [
    {
     "name": "stdout",
     "output_type": "stream",
     "text": [
      "\n",
      "🧠 Question: Why abdul kalam is famous?\n",
      "\n",
      "✅Milvus Answer:\n",
      " Dr. Kalam took up academic pursuit as Professor, Technology & Societal Transformation at Anna University, Chennai from November 2001 and was involved in teaching Vision 2020. He has addressed several children science congresses across the country. Dr. Kalam is passionate about bringing rural prosperity through PURA (Providing Urban Amenities to Rural Areas), in which science and technology has to play a key role. Based on his diverse experience he has been propagating the concept of World Knowledge Platform through which the core responsible for evolving policies, strategies and missions for many development applications. Dr. Kalam was also the Chairman, Ex-officio, of the Scientific Advisory Committee to the Cabinet (SAC-C) and piloted India Millennium Mission 2020. He has addressed several children science congresses across the country. Dr. Kalam took up academic pursuit as Professor, Technology & Societal Transformation at Anna University, Chennai from November 2001 and was involved in teaching Vision 2020. He has addressed several children science congresses across the country. Dr. Kalam is passionate about bringing rural prosperity through PURA (Providing Urban Amenities to Rural Areas), in which science and technology has to play a key role. Based on his diverse experience he has been propagating the concept of World Knowledge Platform through which the core responsible for evolving policies, strategies and missions for many development applications. Dr. Kalam was also the Chairman, Ex-officio, of the Scientific Advisory Committee to the Cabinet (SAC-C) and piloted India Millennium Mission 2020. Dr. Kalam was also the Chairman, Ex-officio, of the Scientific Advisory Committee to the Cabinet (SAC-C) and piloted India Millennium Mission\n"
     ]
    }
   ],
   "source": [
    "milvus_context = \"\\n\".join(milvus_relavant_docs)\n",
    "\n",
    "print(f\"\\n🧠 Question: {query_text}\")\n",
    "\n",
    "final_input = f\"\"\"You are an expert assistant.\n",
    "Answer the following question strictly only based on the provided context.\"\n",
    "\n",
    "Context:\n",
    "{milvus_context}\n",
    "\n",
    "Question: {query_text}\n",
    "Answer:\"\"\"\n",
    "\n",
    "milvus_response = llm_pipe(final_input)[0][\"generated_text\"]\n",
    "print(\"\\n✅Milvus Answer:\\n\", milvus_response)\n"
   ]
  },
  {
   "cell_type": "code",
   "execution_count": 35,
   "id": "bcf22d4c-d6a6-4ab7-b118-ce3c0e72ba8e",
   "metadata": {},
   "outputs": [],
   "source": [
    "import psycopg\n",
    "from pgvector.psycopg import register_vector\n",
    "\n",
    "# Connect to DB and register pgvector\n",
    "conn = psycopg.connect(\n",
    "    host='localhost',\n",
    "    port='5432',\n",
    "    dbname='pgvector',\n",
    "    user='postgres',\n",
    "    password='R.Karthik@04',\n",
    "    autocommit=True\n",
    ")\n",
    "\n",
    "conn.execute('CREATE EXTENSION IF NOT EXISTS vector')\n",
    "register_vector(conn)\n",
    "\n",
    "# Drop and create table\n",
    "conn.execute('DROP TABLE IF EXISTS rag_chunks')\n",
    "conn.execute('CREATE TABLE rag_chunks (id bigserial PRIMARY KEY, content text, embedding vector(768), metadata text)')\n",
    "\n",
    "# Store data\n",
    "cur = conn.cursor()\n",
    "with cur.copy('COPY rag_chunks (content, embedding, metadata) FROM STDIN WITH (FORMAT BINARY)') as copy:\n",
    "    copy.set_types(['text', 'vector', 'text'])\n",
    "    for content, embedding, meta in zip(documents, embeddings, metadatas):\n",
    "        copy.write_row([content, embedding, str(meta)])"
   ]
  },
  {
   "cell_type": "code",
   "execution_count": 36,
   "id": "059def9b-b421-49bd-baa6-2b6ede2776e3",
   "metadata": {},
   "outputs": [],
   "source": [
    "def retrieve_context(query: str, top_k=3):\n",
    "    query_embedding1 = get_embedding([query])[0]  # shape (768,)\n",
    "\n",
    "    # Fetch content along with similarity score\n",
    "    result = conn.execute(\n",
    "        '''\n",
    "        SELECT content, embedding <=> %s AS score\n",
    "        FROM rag_chunks\n",
    "        ORDER BY score\n",
    "        LIMIT %s\n",
    "        ''',\n",
    "        (np.array(query_embedding1), top_k)\n",
    "    ).fetchall()\n",
    "\n",
    "    print(f\"\\nTop {top_k} chunks for query: '{query}'\\n\" + \"-\"*60)\n",
    "    for i, (content, score) in enumerate(result, start=1):\n",
    "        print(f\"\\nChunk {i} (Score: {score:.4f}):\\n{content}\\n\" + \"-\"*60)\n",
    "\n",
    "    context = '\\n\\n'.join([row[0] for row in result])\n",
    "    return context\n"
   ]
  },
  {
   "cell_type": "code",
   "execution_count": 37,
   "id": "bef64104-6971-4791-8da9-e769d44341ab",
   "metadata": {},
   "outputs": [
    {
     "name": "stdout",
     "output_type": "stream",
     "text": [
      "\n",
      "Top 3 chunks for query: 'Why abdul kalam is famous?'\n",
      "------------------------------------------------------------\n",
      "\n",
      "Chunk 1 (Score: 0.4136):\n",
      "initiated the use of carbon-carbon and carbon-polymer \n",
      "materials for production of floor reaction orthosis calipers \n",
      "which has reduced the weight of the caliper to 1/10th of the \n",
      "original weight during 1995 – 1996. Over 50,000 children have \n",
      "been fitted with these calipers.  \n",
      "Dr. Kalam took up academic pursuit as Professor, \n",
      "Technology & Societal Transformation at Anna University, \n",
      "Chennai from November 2001 and was involved in teaching\n",
      "------------------------------------------------------------\n",
      "\n",
      "Chunk 2 (Score: 0.4270):\n",
      "Vision 2020.  He has addressed several children science \n",
      "congresses across the country.  \n",
      "Dr. Kalam is passionate about bringing rural prosperity \n",
      "through PURA (Providing Urban Amenities to Rural Areas), in \n",
      "which science and technology has to play a key role. Based on \n",
      "his diverse experience he has been propagating the concept of \n",
      "World \n",
      "Knowledge \n",
      "Platform \n",
      "through \n",
      "which \n",
      "the \n",
      "core\n",
      "------------------------------------------------------------\n",
      "\n",
      "Chunk 3 (Score: 0.4782):\n",
      "responsible for evolving policies, strategies and missions for \n",
      "many development applications. Dr. Kalam was also the \n",
      "Chairman, Ex-officio, of the Scientific Advisory Committee to \n",
      "the Cabinet (SAC-C) and piloted India Millennium Mission \n",
      "2020.\n",
      "------------------------------------------------------------\n"
     ]
    }
   ],
   "source": [
    "pgvector_context=retrieve_context(query_text)"
   ]
  },
  {
   "cell_type": "code",
   "execution_count": 38,
   "id": "2e6ce207-7036-4020-aad1-003a832a2189",
   "metadata": {},
   "outputs": [
    {
     "name": "stdout",
     "output_type": "stream",
     "text": [
      "\n",
      "🧠 Question: Why abdul kalam is famous?\n",
      "\n",
      "✅Pgvector Answer:\n",
      " Dr. Kalam took up academic pursuit as Professor, Technology & Societal Transformation at Anna University, Chennai from November 2001 and was involved in teaching Vision 2020. He has addressed several children science congresses across the country. Dr. Kalam is passionate about bringing rural prosperity through PURA (Providing Urban Amenities to Rural Areas), in which science and technology has to play a key role. Based on his diverse experience he has been propagating the concept of World Knowledge Platform through which the core responsible for evolving policies, strategies and missions for many development applications. Dr. Kalam was also the Chairman, Ex-officio, of the Scientific Advisory Committee to the Cabinet (SAC-C) and piloted India Millennium Mission 2020. He has addressed several children science congresses across the country. Dr. Kalam took up academic pursuit as Professor, Technology & Societal Transformation at Anna University, Chennai from November 2001 and was involved in teaching Vision 2020. He has addressed several children science congresses across the country. Dr. Kalam is passionate about bringing rural prosperity through PURA (Providing Urban Amenities to Rural Areas), in which science and technology has to play a key role. Based on his diverse experience he has been propagating the concept of World Knowledge Platform through which the core responsible for evolving policies, strategies and missions for many development applications. Dr. Kalam was also the Chairman, Ex-officio, of the Scientific Advisory Committee to the Cabinet (SAC-C) and piloted India Millennium Mission 2020. Dr. Kalam was also the Chairman, Ex-officio, of the Scientific Advisory Committee to the Cabinet (SAC-C) and piloted India Millennium Mission\n"
     ]
    }
   ],
   "source": [
    "print(f\"\\n🧠 Question: {query_text}\")\n",
    "\n",
    "final_input = f\"\"\"You are an expert assistant.\n",
    "Answer the following question strictly only based on the provided context.\"\n",
    "\n",
    "Context:\n",
    "{pgvector_context}\n",
    "\n",
    "Question: {query_text}\n",
    "Answer:\"\"\"\n",
    "\n",
    "pgvector_response = llm_pipe(final_input)[0][\"generated_text\"]\n",
    "print(\"\\n✅Pgvector Answer:\\n\", milvus_response)\n"
   ]
  }
 ],
 "metadata": {
  "kernelspec": {
   "display_name": "Python 3 (ipykernel)",
   "language": "python",
   "name": "python3"
  },
  "language_info": {
   "codemirror_mode": {
    "name": "ipython",
    "version": 3
   },
   "file_extension": ".py",
   "mimetype": "text/x-python",
   "name": "python",
   "nbconvert_exporter": "python",
   "pygments_lexer": "ipython3",
   "version": "3.10.12"
  }
 },
 "nbformat": 4,
 "nbformat_minor": 5
}
